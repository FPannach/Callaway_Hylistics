{
 "cells": [
  {
   "cell_type": "code",
   "execution_count": 2,
   "id": "14dfdac6",
   "metadata": {},
   "outputs": [],
   "source": []
  },
  {
   "cell_type": "code",
   "execution_count": 9,
   "id": "1d282a93",
   "metadata": {},
   "outputs": [],
   "source": [
    "from frame_semantic_transformer import FrameSemanticTransformer\n",
    "import spacy"
   ]
  },
  {
   "cell_type": "code",
   "execution_count": 13,
   "id": "a4cdb248",
   "metadata": {},
   "outputs": [
    {
     "data": {
      "text/plain": [
       "<spacy.pipeline.sentencizer.Sentencizer at 0x7bc511894350>"
      ]
     },
     "execution_count": 13,
     "metadata": {},
     "output_type": "execute_result"
    }
   ],
   "source": [
    "nlp = spacy.load(\"en_core_web_sm\")\n",
    "nlp.add_pipe(\"sentencizer\")"
   ]
  },
  {
   "cell_type": "code",
   "execution_count": 3,
   "id": "5d84935b",
   "metadata": {},
   "outputs": [],
   "source": [
    "frame_transformer = FrameSemanticTransformer(batch_size=16)"
   ]
  },
  {
   "cell_type": "code",
   "execution_count": 4,
   "id": "4985a817",
   "metadata": {},
   "outputs": [
    {
     "data": {
      "application/vnd.jupyter.widget-view+json": {
       "model_id": "3538e62c126e4e199e881018b344dbe1",
       "version_major": 2,
       "version_minor": 0
      },
      "text/plain": [
       "config.json:   0%|          | 0.00/1.75k [00:00<?, ?B/s]"
      ]
     },
     "metadata": {},
     "output_type": "display_data"
    },
    {
     "data": {
      "application/vnd.jupyter.widget-view+json": {
       "model_id": "ad30e150cea14f98a83485fd3918fd0b",
       "version_major": 2,
       "version_minor": 0
      },
      "text/plain": [
       "pytorch_model.bin:   0%|          | 0.00/892M [00:00<?, ?B/s]"
      ]
     },
     "metadata": {},
     "output_type": "display_data"
    },
    {
     "data": {
      "application/vnd.jupyter.widget-view+json": {
       "model_id": "4997fe09f41c4808aa7d7043280b078a",
       "version_major": 2,
       "version_minor": 0
      },
      "text/plain": [
       "tokenizer_config.json:   0%|          | 0.00/2.55k [00:00<?, ?B/s]"
      ]
     },
     "metadata": {},
     "output_type": "display_data"
    },
    {
     "data": {
      "application/vnd.jupyter.widget-view+json": {
       "model_id": "b9055fce7c2b411d81e534f60e552600",
       "version_major": 2,
       "version_minor": 0
      },
      "text/plain": [
       "spiece.model:   0%|          | 0.00/792k [00:00<?, ?B/s]"
      ]
     },
     "metadata": {},
     "output_type": "display_data"
    },
    {
     "data": {
      "application/vnd.jupyter.widget-view+json": {
       "model_id": "30cde3dee44f406688a13db45ddea2bf",
       "version_major": 2,
       "version_minor": 0
      },
      "text/plain": [
       "special_tokens_map.json:   0%|          | 0.00/2.20k [00:00<?, ?B/s]"
      ]
     },
     "metadata": {},
     "output_type": "display_data"
    },
    {
     "name": "stderr",
     "output_type": "stream",
     "text": [
      "[nltk_data] Downloading package framenet_v17 to\n",
      "[nltk_data]     /home/franzi/nltk_data...\n",
      "[nltk_data]   Unzipping corpora/framenet_v17.zip.\n",
      "[nltk_data] Downloading package wordnet to /home/franzi/nltk_data...\n",
      "[nltk_data] Downloading package omw-1.4 to /home/franzi/nltk_data...\n",
      "/home/franzi/anaconda3/lib/python3.11/site-packages/transformers/generation/configuration_utils.py:520: UserWarning: `do_sample` is set to `False`. However, `top_p` is set to `0.95` -- this flag is only used in sample-based generation modes. You should set `do_sample=True` or unset `top_p`.\n",
      "  warnings.warn(\n"
     ]
    }
   ],
   "source": [
    "result = frame_transformer.detect_frames(\"The wasp stings the cannibal in the cheek.\")"
   ]
  },
  {
   "cell_type": "code",
   "execution_count": 5,
   "id": "5eab4e04",
   "metadata": {},
   "outputs": [
    {
     "name": "stdout",
     "output_type": "stream",
     "text": [
      "Results found in: The wasp stings the cannibal in the cheek. \n",
      "FRAME: Cause_harm\n",
      "Cause: The wasp\n",
      "Victim: the cannibal\n",
      "Body_part: in the cheek\n",
      "FRAME: Body_parts\n",
      "Body_part: cheek\n"
     ]
    }
   ],
   "source": [
    "print(f\"Results found in: {result.sentence}\")\n",
    "for frame in result.frames: \n",
    "    print(f\"FRAME: {frame.name}\")\n",
    "    for element in frame.frame_elements:\n",
    "        print(f\"{element.name}: {element.text}\")"
   ]
  },
  {
   "cell_type": "code",
   "execution_count": 21,
   "id": "f454736b",
   "metadata": {},
   "outputs": [],
   "source": [
    "sentences = \"Uthlakanyana opened the door. “Are you still angry, my uncle? Do you no longer cry out so as to be heard; for I thought you were screaming? My uncle, speak. Why are you silent? Just play your calabash, that I may listen and hear. At length he entered ; when he came, the cannibal was dead. He took him out of the house, and took possession of it. He slept, and was happy now.\""
   ]
  },
  {
   "cell_type": "code",
   "execution_count": 37,
   "id": "fd851c60",
   "metadata": {},
   "outputs": [],
   "source": [
    "sentences = \"Uthlakanyana opens the door. Uthlakanyana mocks the cannibal. The cannibal is dead.\"\n"
   ]
  },
  {
   "cell_type": "code",
   "execution_count": 38,
   "id": "d674686a",
   "metadata": {},
   "outputs": [],
   "source": [
    "doc = nlp(sentences)"
   ]
  },
  {
   "cell_type": "code",
   "execution_count": 39,
   "id": "9a54c785",
   "metadata": {},
   "outputs": [],
   "source": [
    "results = frame_transformer.detect_frames_bulk([str(sent) for sent in doc.sents])"
   ]
  },
  {
   "cell_type": "code",
   "execution_count": 40,
   "id": "02fba7bc",
   "metadata": {},
   "outputs": [
    {
     "name": "stdout",
     "output_type": "stream",
     "text": [
      "Results found in: Uthlakanyana opens the door.\n",
      "Frame:\n",
      "Closure & Agent & Uthlakanyana \\\\\n",
      "& Container_portal & the door \\\\\n",
      "#########\n",
      "Frame:\n",
      "Connecting_architecture & Part & door \\\\\n",
      "#########\n",
      "Results found in: Uthlakanyana mocks the cannibal.\n",
      "Frame:\n",
      "People_by_vocation & Person & cannibal \\\\\n",
      "#########\n",
      "Results found in: The cannibal is dead.\n",
      "Frame:\n",
      "Dead_or_alive & Protagonist & The cannibal \\\\\n",
      "#########\n"
     ]
    }
   ],
   "source": [
    "for result in results:\n",
    "    print(f\"Results found in: {result.sentence}\")\n",
    "    for frame in result.frames: \n",
    "        print(\"Frame:\")\n",
    "        print(f\"{frame.name} \", end =\"\")\n",
    "        for element in frame.frame_elements:\n",
    "            print(f\"& {element.name} & {element.text} \\\\\\\\\")\n",
    "        print(\"#########\")"
   ]
  },
  {
   "cell_type": "code",
   "execution_count": 26,
   "id": "d6dd1c32",
   "metadata": {},
   "outputs": [
    {
     "data": {
      "text/plain": [
       "[DetectFramesResult(sentence='Uthlakanyana opened the door.', trigger_locations=[13, 24], frames=[FrameResult(name='Closure', trigger_location=13, frame_elements=[FrameElementResult(name='Agent', text='Uthlakanyana'), FrameElementResult(name='Container_portal', text='the door')]), FrameResult(name='Connecting_architecture', trigger_location=24, frame_elements=[FrameElementResult(name='Part', text='door')])]),\n",
       " DetectFramesResult(sentence='“Are you still angry, my uncle?', trigger_locations=[15], frames=[FrameResult(name='Emotion_directed', trigger_location=15, frame_elements=[FrameElementResult(name='Experiencer', text='you'), FrameElementResult(name='Time', text='still')])]),\n",
       " DetectFramesResult(sentence='Do you no longer cry out so as to be heard; for I thought you were screaming?', trigger_locations=[7, 10, 17, 37, 50, 67], frames=[FrameResult(name='Temporal_collocation', trigger_location=7, frame_elements=[FrameElementResult(name='Trajector_event', text='cry out so as to be heard')]), FrameResult(name='Temporal_collocation', trigger_location=10, frame_elements=[FrameElementResult(name='Trajector_event', text='cry out so as to be heard')]), FrameResult(name='Communication_noise', trigger_location=17, frame_elements=[FrameElementResult(name='Speaker', text='you'), FrameElementResult(name='Message', text='so as to be heard')]), FrameResult(name='Perception_experience', trigger_location=37, frame_elements=[FrameElementResult(name='Phenomenon', text='you')]), FrameResult(name='Awareness', trigger_location=50, frame_elements=[FrameElementResult(name='Cognizer', text='I'), FrameElementResult(name='Content', text='you were screaming')]), FrameResult(name='Make_noise', trigger_location=67, frame_elements=[FrameElementResult(name='Sound_source', text='you')])]),\n",
       " DetectFramesResult(sentence='My uncle, speak.', trigger_locations=[3], frames=[FrameResult(name='Kinship', trigger_location=3, frame_elements=[FrameElementResult(name='Ego', text='My'), FrameElementResult(name='Alter', text='uncle')])]),\n",
       " DetectFramesResult(sentence='Why are you silent?', trigger_locations=[], frames=[]),\n",
       " DetectFramesResult(sentence='Just play your calabash, that I may listen and hear.', trigger_locations=[36, 47], frames=[FrameResult(name='Perception_active', trigger_location=36, frame_elements=[FrameElementResult(name='Perceiver_agentive', text='I')]), FrameResult(name='Perception_experience', trigger_location=47, frame_elements=[FrameElementResult(name='Phenomenon', text='that'), FrameElementResult(name='Perceiver_passive', text='I')])]),\n",
       " DetectFramesResult(sentence='At length he entered ; when he came, the cannibal was dead.', trigger_locations=[13, 31, 54], frames=[FrameResult(name='Arriving', trigger_location=13, frame_elements=[FrameElementResult(name='Theme', text='he')]), FrameResult(name='Arriving', trigger_location=31, frame_elements=[FrameElementResult(name='Theme', text='he')]), FrameResult(name='Dead_or_alive', trigger_location=54, frame_elements=[FrameElementResult(name='Time', text='when he came'), FrameElementResult(name='Protagonist', text='the cannibal')])]),\n",
       " DetectFramesResult(sentence='He took him out of the house, and took possession of it.', trigger_locations=[3, 23, 39], frames=[FrameResult(name='Removing', trigger_location=3, frame_elements=[FrameElementResult(name='Agent', text='He'), FrameElementResult(name='Theme', text='him'), FrameElementResult(name='Source', text='out of the house,')]), FrameResult(name='Buildings', trigger_location=23, frame_elements=[FrameElementResult(name='Building', text='house')]), FrameResult(name='Possession', trigger_location=39, frame_elements=[FrameElementResult(name='Owner', text='He'), FrameElementResult(name='Possession', text='of it.')])]),\n",
       " DetectFramesResult(sentence='He slept, and was happy now.', trigger_locations=[3, 18], frames=[FrameResult(name='Sleep', trigger_location=3, frame_elements=[FrameElementResult(name='Sleeper', text='He')]), FrameResult(name='Emotion_directed', trigger_location=18, frame_elements=[FrameElementResult(name='Experiencer', text='He'), FrameElementResult(name='Time', text='now')])])]"
      ]
     },
     "execution_count": 26,
     "metadata": {},
     "output_type": "execute_result"
    }
   ],
   "source": [
    "results"
   ]
  }
 ],
 "metadata": {
  "kernelspec": {
   "display_name": "Python 3 (ipykernel)",
   "language": "python",
   "name": "python3"
  },
  "language_info": {
   "codemirror_mode": {
    "name": "ipython",
    "version": 3
   },
   "file_extension": ".py",
   "mimetype": "text/x-python",
   "name": "python",
   "nbconvert_exporter": "python",
   "pygments_lexer": "ipython3",
   "version": "3.11.5"
  }
 },
 "nbformat": 4,
 "nbformat_minor": 5
}
